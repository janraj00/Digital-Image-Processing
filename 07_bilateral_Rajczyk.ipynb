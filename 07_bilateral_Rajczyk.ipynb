{
  "cells": [
    {
      "cell_type": "markdown",
      "metadata": {
        "pycharm": {
          "name": "#%% md\n"
        },
        "id": "xa9cTVzKwdP1"
      },
      "source": [
        "# Filtracja bilateralna"
      ]
    },
    {
      "cell_type": "markdown",
      "source": [
        "## Konwolucja obrazu z filtrem o zadanych współczynnikach\n",
        "\n",
        "Splot (konwolucję) obrazu wejściowego $I$ z filtrem $\\psi$ dla ustalonego punktu obrazu $\\mathbf{x}$ można przedstawić następująco:\n",
        "\n",
        "\\begin{equation}\n",
        "\\hat{I}(\\mathbf{x}) = \\frac{1}{W_N}\\sum_{\\mathbf{p} \\in \\eta(\\mathbf{x})} \\psi(||\\mathbf{p}-\\mathbf{x}||)I(\\mathbf{p})\n",
        "\\end{equation}\n",
        "\n",
        "gdzie:\n",
        "- $\\hat{I}$ jest obrazem wynikowym (przefiltrowanym),\n",
        "- $W_N = \\sum_y \\psi(y)$ jest parametrem normalizującym współczynniki filtra $\\psi$,\n",
        "- $||\\cdot||$ jest odległością między punktami obrazu $\\mathbf{x}$ i $\\mathbf{p}$ według ustalonej metryki (np. norma $L_2$). Uwaga, proszę pamiętać, że zarówno $\\mathbf{x}$, jak i $\\mathbf{p}$ to współrzędne przestrzenne,\n",
        "- $\\eta(\\mathbf{x})$ jest otoczeniem punktu $\\mathbf{x}$.\n",
        "\n",
        "Funkcja $\\psi$ decyduje o charakterze filtracji. Dla filtru Gaussowskiego:\n",
        "\n",
        "\\begin{equation}\n",
        "\\psi(y) = G_{\\delta_s}(y)\n",
        "\\end{equation}\n",
        "\n",
        "gdzie: $G_{\\delta_s}(y)$ jest funkcją Gaussa z parametrem skali $\\delta_s$.\n",
        "\n",
        "Opisaną powyżej filtrację realizowaliśmy w ramach ćwiczenia \"Przetwarzanie wstępne. Filtracja kontekstowa.\""
      ],
      "metadata": {
        "collapsed": false,
        "pycharm": {
          "name": "#%% md\n"
        },
        "id": "MhkvwnYpwdP4"
      }
    },
    {
      "cell_type": "markdown",
      "source": [
        "## Filtracja bilateralna\n",
        "\n",
        "Wadą klasycznego splotu jest brak adaptacji współczynników filtra do lokalnego otoczenia $\\eta(\\mathbf{x})$ filtrowanego punktu $\\mathbf{x}$.\n",
        "Oznacza to wykorzystanie tych samych współczynników filtra $\\psi$ niezależnie od tego czy otoczenie jest względnie jednorodne lub zawiera krawędzie obiektów (w tym przypadku dochodzi do \"rozmywania\" krawędzi).\n",
        "Filtracja bilateralna uwzględnia lokalne otoczenie filtrowanego punktu, w ten sposób, że parametry filtra zmieniają się w zależności od \"wyglądu\" otocznia.\n",
        "\n",
        "\n",
        "Współczynniki filtra obliczane są na podstawie odległości filtrowanego punktu $\\mathbf{x}$ od każdego punktu otoczenia $\\mathbf{p}$ w dziedzinie przestrzennej obrazu (tak jak przy typowym filtrze np. Gaussa) oraz odległości punktów w przeciwdziedzinie obrazu (np. na podstawie różnicy w jasności pikseli dla obrazu w odcieniach szarości):\n",
        "\n",
        "\\begin{equation}\n",
        "\\hat{I}(\\mathbf{x}) = \\frac{1}{W_N}\\sum_{\\mathbf{p} \\in \\eta(\\mathbf{x})} \\psi(||\\mathbf{p}-\\mathbf{x}||) \\gamma(|I(\\mathbf{p}) - I(\\mathbf{x})|) I(\\mathbf{p})\n",
        "\\end{equation}\n",
        "gdzie:\n",
        "- $W_N$ jest współczynnikiem normalizującym filtr,\n",
        "- $\\gamma$ jest funkcją odległości w przeciwdziedzinie obrazu, np. $\\gamma(y)=\\exp(-\\frac{y^2}{2\\delta_r^2})$\n",
        "- parametr $\\delta_r$ jest utożsamiany z poziomem szumu w obrazie i należy go dobrać w sposób empiryczny.\n",
        "\n",
        "Proszę chwilę zastanowić się nad powyższym równaniem, w szczególności nad funkcją $\\gamma$. Proszę wyznaczyć, jaka będzie wartość funkcji dla pikseli podobnych (różnica 0, 1, 2), a skrajnie różnych (255, 200).\n",
        "\n",
        "##  Realizacja ćwiczenia\n",
        "\n",
        "### Wczytanie danych\n",
        "\n",
        "1. Wczytaj dane z pliku *MR_data.mat*. W tym celu wykorzystaj funkcję `loadmat` z pakietu scipy:\n",
        "        from scipy.io import loadmat\n",
        "        mat = loadmat('MR_data.mat')\n",
        "\n",
        "2. Wczytany plik zawiera 5 obrazów: *I_noisefree*, *I_noisy1*, *I_noisy2*, *I_noisy3* oraz *I_noisy4*. Odczytać je można w następujący sposób:\n",
        "        Input = mat['I_noisy1']\n",
        "\n",
        "3.Wyświetl wybrany obraz z pliku *MR_data.mat*. Zagadka - co to za obrazowanie medyczne?"
      ],
      "metadata": {
        "collapsed": false,
        "pycharm": {
          "name": "#%% md\n"
        },
        "id": "AiEF_PexwdP6"
      }
    },
    {
      "cell_type": "code",
      "execution_count": null,
      "outputs": [],
      "source": [
        "from matplotlib import pyplot as plt\n",
        "import numpy as np\n",
        "from scipy.stats import norm\n",
        "from scipy.io import loadmat\n",
        "import math\n",
        "import os\n",
        "\n",
        "if not os.path.exists(\"MR_data.mat\") :\n",
        "    !wget https://raw.githubusercontent.com/vision-agh/poc_sw/master/07_Bilateral/MR_data.mat --no-check-certificate\n",
        "\n",
        "mat = loadmat('MR_data.mat')\n",
        "Input = mat['I_noisy1']\n"
      ],
      "metadata": {
        "pycharm": {
          "name": "#%% Zadanie 1 - wyświetlanie\n"
        },
        "id": "MNUF1CnowdP7"
      }
    },
    {
      "cell_type": "code",
      "source": [
        "plt.imshow(Input, 'gray')"
      ],
      "metadata": {
        "id": "GEkNuywY6f-l"
      },
      "execution_count": null,
      "outputs": []
    },
    {
      "cell_type": "markdown",
      "source": [
        "### \"Klasyczna\" konwolucja\n",
        "\n",
        "1. Zdefiniuj parametry filtra Gaussowskiego: rozmiar okna i wariancję $\\delta_S$.\n",
        "2. Oblicz współczynniki filtra na podstawie zdefiniowanych parametrów (najprościej w ramach podwójnej pętli for).\n",
        "2. Sprawdź ich poprawność i zwizualizuj filtr (tak jak w ćwiczeniu pt. \"Przetwarzanie wstępne. Filtracja kontekstowa.\").\n",
        "3. Wykonaj kopię obrazu wejściowego: `IConv = Input.copy()`\n",
        "4. Wykonaj podwójną pętlę po obrazie. Pomiń ramkę, dla której nie jest zdefiniowany kontekst o wybranej wielkości.\n",
        "5. W każdej iteracji stwórz dwuwymiarową tablicę zawierającą aktualny kontekst.\n",
        "6. Napisz funkcję, która będzie obliczała nową wartość piksela.\n",
        "Argumentem tej funkcji są aktualnie przetwarzane okno i współczynniki filtra.\n",
        "7. Obliczoną wartość przypisz do odpowiedniego piksela kopii obrazu wejściowego.\n",
        "8. Wyświetl wynik filtracji.\n",
        "9. Porównaj wynik z obrazem oryginalnym."
      ],
      "metadata": {
        "collapsed": false,
        "pycharm": {
          "name": "#%% md\n"
        },
        "id": "0GizgfKXwdP7"
      }
    },
    {
      "cell_type": "code",
      "execution_count": null,
      "outputs": [],
      "source": [
        "def convolutionParam(windowSize, var):\n",
        "  mask = np.zeros((windowSize, windowSize))\n",
        "  centre = windowSize//2\n",
        "  for i in range(windowSize):\n",
        "    for j in range(windowSize):\n",
        "      d = np.sqrt((i-centre)**2 + (j-centre)**2)\n",
        "      mask[i, j] = norm.pdf(d, 0, var)\n",
        "  return mask"
      ],
      "metadata": {
        "pycharm": {
          "name": "#%% Zadanie 2 - konwolucja\n"
        },
        "id": "Bm4Kvx5AwdP8"
      }
    },
    {
      "cell_type": "code",
      "source": [
        "def mesh(fun, size):\n",
        "  fig = plt.figure()\n",
        "  ax = fig.gca(projection='3d')    \n",
        "\n",
        "  X = np.arange(-size//2, size//2, 1)\n",
        "  Y = np.arange(-size//2, size//2, 1)\n",
        "  X, Y = np.meshgrid(X, Y)\n",
        "  Z = fun\n",
        "    \n",
        "  ax.plot_surface(X, Y, Z)\n",
        "    \n",
        "  plt.show()"
      ],
      "metadata": {
        "id": "-M5j7Cs69gPG"
      },
      "execution_count": null,
      "outputs": []
    },
    {
      "cell_type": "code",
      "source": [
        "mask = convolutionParam(5, 0.5)\n",
        "mesh(mask, 5)"
      ],
      "metadata": {
        "id": "y9Kh2-S09keN"
      },
      "execution_count": null,
      "outputs": []
    },
    {
      "cell_type": "code",
      "source": [
        "IConv = Input.copy()"
      ],
      "metadata": {
        "id": "9ew4pMfGBd9T"
      },
      "execution_count": null,
      "outputs": []
    },
    {
      "cell_type": "code",
      "source": [
        "def getWindow(img, x, y, windowSize):\n",
        "    return img[(x - windowSize//2):(x + windowSize//2 + 1), (y - windowSize//2):(y + windowSize//2 + 1)]"
      ],
      "metadata": {
        "id": "esWmpW9PCflU"
      },
      "execution_count": null,
      "outputs": []
    },
    {
      "cell_type": "code",
      "source": [
        "def convolution(img, windowSize, mask):\n",
        "  M, N = img.shape\n",
        "  new_img = np.zeros((M, N))\n",
        "  for i in range(windowSize//2, M - windowSize//2):\n",
        "    for j in range(windowSize//2, N - windowSize//2):\n",
        "      new_img[i, j] = np.sum(getWindow(img, i, j, windowSize)*mask)\n",
        "  return new_img    "
      ],
      "metadata": {
        "id": "9VvK-9eZKsk6"
      },
      "execution_count": null,
      "outputs": []
    },
    {
      "cell_type": "code",
      "source": [
        "maska = convolutionParam(5, 0.2)\n",
        "T = convolution(IConv, 5, maska)\n",
        "plt.imshow(T, 'gray')"
      ],
      "metadata": {
        "id": "3aLIuGEMM-z7"
      },
      "execution_count": null,
      "outputs": []
    },
    {
      "cell_type": "markdown",
      "source": [
        "### Filtracja bilateralna\n",
        "\n",
        "1. Zdefiniuj dodatkowy parametr: wariancję $\\delta_R$.\n",
        "3. Wykonaj kopię obrazu wejściowego: `IBilateral = Input.copy()`\n",
        "4. Wykonaj podwójną pętlę po obrazie. Pomiń ramkę, dla której nie jest zdefiniowany kontekst o wybranej wielkości.\n",
        "5. W każdej iteracji stwórz dwuwymiarową tablicę zawierającą aktualny kontekst.\n",
        "6. Napisz funkcję, która będzie obliczała nową wartość piksela.\n",
        "Argumentami funkcji są aktualnie przetwarzane okno, współczynniki filtra gausowskiego (takie same jak wcześniej) i wariancja $\\delta_R$.\n",
        "7. Oblicz odległość w przeciwdziedzinie (dla wartości pikseli).\n",
        "8. Oblicz funkcję Gaussa dla obliczonych odległości z zadanym parametrem.\n",
        "9. Wykonaj normalizację obliczonych współczynników.\n",
        "10. Obliczoną wartość przypisz do odpowiedniego piksela kopii obrazu wejściowego.\n",
        "11. Wyświetl wynik filtracji.\n",
        "12. Porównaj wynik z obrazem oryginalnym."
      ],
      "metadata": {
        "collapsed": false,
        "pycharm": {
          "name": "#%% md\n"
        },
        "id": "8cSaXX3kwdP8"
      }
    },
    {
      "cell_type": "code",
      "execution_count": null,
      "outputs": [],
      "source": [
        "IBilateral = Input.copy()"
      ],
      "metadata": {
        "pycharm": {
          "name": "#%%\n"
        },
        "id": "A1DtbNPrwdP9"
      }
    },
    {
      "cell_type": "code",
      "source": [
        "def getNormal(x, var):\n",
        "  return math.exp(-(x ** 2) / (2 * (var ** 2))) / (var * math.sqrt(2 * math.pi))"
      ],
      "metadata": {
        "id": "I7QenyGeSfbh"
      },
      "execution_count": null,
      "outputs": []
    },
    {
      "cell_type": "code",
      "source": [
        "def distance_mask(window, windowSize, varR):\n",
        "  centre = window[windowSize//2, windowSize//2]\n",
        "  mask = np.zeros((windowSize, windowSize))\n",
        "  for i in range(windowSize):\n",
        "    for j in range(windowSize):\n",
        "      d = np.abs(window[i, j] - centre)\n",
        "      mask[i, j] = getNormal(d, varR)\n",
        "  return mask    "
      ],
      "metadata": {
        "id": "X4z46PaYPxPw"
      },
      "execution_count": null,
      "outputs": []
    },
    {
      "cell_type": "code",
      "source": [
        "def bilateral(img, windowSize, mask, varR):\n",
        "  img = img.astype(int)\n",
        "  M, N = img.shape\n",
        "  new_img = np.zeros((M, N))\n",
        "  for i in range(windowSize//2, M - windowSize//2):\n",
        "    for j in range(windowSize//2, N - windowSize//2):\n",
        "      window = getWindow(img, i, j, windowSize)\n",
        "      dist_mask = distance_mask(window, windowSize, varR)\n",
        "      res = dist_mask * mask\n",
        "      res /= np.sum(res)\n",
        "      new_img[i, j] = np.sum(window * res)\n",
        "  return new_img  "
      ],
      "metadata": {
        "id": "8DedfHO2OPWh"
      },
      "execution_count": null,
      "outputs": []
    },
    {
      "cell_type": "code",
      "source": [
        "maska = convolutionParam(7, 1.5)\n",
        "B = bilateral(IBilateral, 7, maska, 20.0)\n",
        "plt.imshow(B, 'gray')"
      ],
      "metadata": {
        "id": "XhlafNPJRSH4"
      },
      "execution_count": null,
      "outputs": []
    }
  ],
  "metadata": {
    "kernelspec": {
      "display_name": "Python 3",
      "language": "python",
      "name": "python3"
    },
    "language_info": {
      "codemirror_mode": {
        "name": "ipython",
        "version": 3
      },
      "file_extension": ".py",
      "mimetype": "text/x-python",
      "name": "python",
      "nbconvert_exporter": "python",
      "pygments_lexer": "ipython3",
      "version": "3.8.3"
    },
    "colab": {
      "name": "07_bilateral_Rajczyk.ipynb",
      "provenance": [],
      "collapsed_sections": []
    }
  },
  "nbformat": 4,
  "nbformat_minor": 0
}
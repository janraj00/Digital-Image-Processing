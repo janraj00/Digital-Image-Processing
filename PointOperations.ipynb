{
  "nbformat": 4,
  "nbformat_minor": 0,
  "metadata": {
    "colab": {
      "name": "02_point_HW_Rajczyk.ipynb",
      "provenance": [],
      "collapsed_sections": []
    },
    "kernelspec": {
      "display_name": "Python 3",
      "language": "python",
      "name": "python3"
    },
    "language_info": {
      "codemirror_mode": {
        "name": "ipython",
        "version": 2
      },
      "file_extension": ".py",
      "mimetype": "text/x-python",
      "name": "python",
      "nbconvert_exporter": "python",
      "pygments_lexer": "ipython2",
      "version": "2.7.6"
    }
  },
  "cells": [
    {
      "cell_type": "markdown",
      "metadata": {
        "collapsed": false,
        "id": "jwC9CPb3auxa"
      },
      "source": [
        "# Zadanie domowe\n",
        "\n",
        "W przypadku obrazów w odcieniach szarości pojedynczy piksel z zakresu [0; 255] reprezentowany jest jako 8-bitowa liczba bez znaku.\n",
        "Pewnym rozszerzeniem analizy sposobu reprezentacji obrazu może być następujący eksperyment.\n",
        "Załóżmy, że z każdego z 8 bitów możemy stworzyć pojedynczy obraz binarny (ang. _bit-plane slicing_).\n",
        "Dla obrazka _100zloty.jpg_ (https://raw.githubusercontent.com/vision-agh/poc_sw/master/02_Point/100zloty.jpg) stwórz 8 obrazów, z których każdy powinien zawierać jedną płaszczyznę bitową.\n",
        "Podpowiedź $-$ warto sprawdzić, jak realizuje się bitowe operacje logiczne.\n",
        "Zastosowanie takiej dekompozycji obrazu pozwala na analizę ,,ważności'' poszczególnych bitów.\n",
        "Jest to użyteczne w kwantyzacji, ale także w kompresji.\n",
        "\n",
        "W drugim etapie zadania proszę spróbować odtworzyć obraz oryginalny z mniejszej liczby obrazów binarnych.\n",
        "Warto zacząć od dwóch najbardziej znaczących bitów, a później dodawać kolejne.\n",
        "Należy utworzyć co najmniej trzy wersje zrekonstruowanych obrazów.\n",
        "Podpowiedź $-$ rekonstrukcja obrazu to mnożenie przez odpowiednią potęgę liczby 2 (przesunięcie bitowe) oraz dodawanie."
      ]
    },
    {
      "cell_type": "code",
      "metadata": {
        "id": "N6Vp4625bN0o"
      },
      "source": [
        "import cv2\n",
        "from matplotlib import pyplot as plt\n",
        "import numpy as np"
      ],
      "execution_count": null,
      "outputs": []
    },
    {
      "cell_type": "code",
      "metadata": {
        "id": "yYiZGI3ybep8"
      },
      "source": [
        "import os\n",
        "if not os.path.exists(\"100zloty.jpg\") :\n",
        "  !wget https://raw.githubusercontent.com/vision-agh/poc_sw/master/02_Point/100zloty.jpg"
      ],
      "execution_count": null,
      "outputs": []
    },
    {
      "cell_type": "code",
      "metadata": {
        "id": "1uMudi_nboS4"
      },
      "source": [
        "IG = cv2.imread(\"100zloty.jpg\")\n",
        "print(IG.shape)\n",
        "plt.imshow(IG)\n",
        "plt.show()"
      ],
      "execution_count": null,
      "outputs": []
    },
    {
      "cell_type": "markdown",
      "metadata": {
        "id": "41471sWnJyqQ"
      },
      "source": [
        "# Funkcja realizująca operację *bit-plane slicing*"
      ]
    },
    {
      "cell_type": "code",
      "metadata": {
        "id": "I1KCPIBddKfz"
      },
      "source": [
        "def bit_plane_slicing(original_img, bit_num):\n",
        "  gray = cv2.cvtColor(original_img, cv2.COLOR_BGR2GRAY)\n",
        "  rows, cols = gray.shape[0], gray.shape[1]\n",
        "  res = np.zeros((rows, cols))\n",
        "  for i in range(rows):\n",
        "    for j in range(cols):\n",
        "      pixel = (int)(np.binary_repr(gray[i][j], width=8)[8 - bit_num])\n",
        "      res[i][j] = 2**(bit_num - 1) * pixel\n",
        "  return res "
      ],
      "execution_count": null,
      "outputs": []
    },
    {
      "cell_type": "code",
      "metadata": {
        "id": "qs8FSEfGepGM"
      },
      "source": [
        "images = []\n",
        "for i in range(1, 9):\n",
        "  A = bit_plane_slicing(IG, i)\n",
        "  images.append(A)\n",
        "  plt.imshow(A, cmap='gray')\n",
        "  plt.show()"
      ],
      "execution_count": null,
      "outputs": []
    },
    {
      "cell_type": "markdown",
      "metadata": {
        "id": "uVPj2cFiKS_0"
      },
      "source": [
        ""
      ]
    },
    {
      "cell_type": "markdown",
      "metadata": {
        "id": "ilHgr335KTFF"
      },
      "source": [
        "# Odtwarzanie oryginalnego obrazu z obrazów binarnych\n"
      ]
    },
    {
      "cell_type": "code",
      "metadata": {
        "id": "HOI2P8uAKdAG"
      },
      "source": [
        "def retrieve_original_image(images):\n",
        "  return sum(images)"
      ],
      "execution_count": null,
      "outputs": []
    },
    {
      "cell_type": "markdown",
      "metadata": {
        "id": "lCsl0V5CiCo8"
      },
      "source": [
        "**Dwa najstarsze bity**"
      ]
    },
    {
      "cell_type": "code",
      "metadata": {
        "id": "J1QxWTtG17z5"
      },
      "source": [
        "X = retrieve_original_image([images[7], images[6]])\n",
        "plt.imshow(X, cmap='gray')\n",
        "plt.show()"
      ],
      "execution_count": null,
      "outputs": []
    },
    {
      "cell_type": "markdown",
      "metadata": {
        "id": "dgHsrWctiG8a"
      },
      "source": [
        "**Bity 7, 6, 5 i 1**"
      ]
    },
    {
      "cell_type": "code",
      "metadata": {
        "id": "ABa5sxby2RfF"
      },
      "source": [
        "X = retrieve_original_image([images[7], images[6], images[5], images[4]])\n",
        "plt.imshow(X, cmap='gray')\n",
        "plt.show()"
      ],
      "execution_count": null,
      "outputs": []
    },
    {
      "cell_type": "markdown",
      "metadata": {
        "id": "3RZ2usADiNhj"
      },
      "source": [
        "**Bity 7, 5, 4 i 2**"
      ]
    },
    {
      "cell_type": "code",
      "metadata": {
        "id": "xjIqeNI32cL3"
      },
      "source": [
        "X = retrieve_original_image([images[7], images[5], images[4], images[2]])\n",
        "plt.imshow(X, cmap='gray')\n",
        "plt.show()"
      ],
      "execution_count": null,
      "outputs": []
    }
  ]
}